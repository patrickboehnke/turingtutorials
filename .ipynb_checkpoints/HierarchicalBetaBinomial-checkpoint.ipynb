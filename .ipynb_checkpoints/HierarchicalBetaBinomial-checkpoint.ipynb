{
 "cells": [
  {
   "cell_type": "markdown",
   "id": "89de5a43",
   "metadata": {},
   "source": [
    "Let's start off by loading the packages we are going to need for this tutorial. This step will take a while because Julia has to compile each package.\n",
    "\n",
    "If you don't have these packages installed you can install them by first:\n",
    "import Pkg\n",
    "Pkg.add(\"Turing\")\n",
    "Pkg.add(\"StatsPlots\")\n",
    "Pkg.add(\"Plots\")\n",
    "Pkg.add(\"DataFrames\")"
   ]
  },
  {
   "cell_type": "code",
   "execution_count": 4,
   "id": "3462b14d",
   "metadata": {},
   "outputs": [
    {
     "name": "stderr",
     "output_type": "stream",
     "text": [
      "┌ Info: Precompiling DataFrames [a93c6f00-e57d-5684-b7b6-d8193f3e46c0]\n",
      "└ @ Base loading.jl:1278\n",
      "┌ Info: Precompiling CSV [336ed68f-0bac-5ca0-87d4-7b16caf5d00b]\n",
      "└ @ Base loading.jl:1278\n"
     ]
    }
   ],
   "source": [
    "using Plots, StatsPlots\n",
    "using Turing\n",
    "using DataFrames"
   ]
  },
  {
   "cell_type": "code",
   "execution_count": null,
   "id": "16e3b1b7",
   "metadata": {},
   "outputs": [],
   "source": [
    "function extract(chain, sym; burn=0, is_scalar=true)\n",
    "    if is_scalar\n",
    "        tail = chain[sym].data[(burn + 1):end, 1]\n",
    "    else\n",
    "        tail = group(chain, sym).value.data[(burn + 1):end, :, 1]\n",
    "    end\n",
    "    return tail\n",
    "end"
   ]
  }
 ],
 "metadata": {
  "kernelspec": {
   "display_name": "Julia 1.5.3",
   "language": "julia",
   "name": "julia-1.5"
  },
  "language_info": {
   "file_extension": ".jl",
   "mimetype": "application/julia",
   "name": "julia",
   "version": "1.5.3"
  }
 },
 "nbformat": 4,
 "nbformat_minor": 5
}
